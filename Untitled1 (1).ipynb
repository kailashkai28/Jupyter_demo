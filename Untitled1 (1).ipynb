{
 "cells": [
  {
   "cell_type": "markdown",
   "id": "e8521612-8f45-4f49-b61e-e3432a53c407",
   "metadata": {
    "tags": []
   },
   "source": [
    "# My Jupyter Notebook on IBM Watson Studio "
   ]
  },
  {
   "cell_type": "markdown",
   "id": "e25ab7c4-0467-4025-a5c0-86833398aedb",
   "metadata": {
    "tags": []
   },
   "source": [
    "**Kailash chandra**\n",
    "--\n",
    "Associate - I Engineer"
   ]
  },
  {
   "cell_type": "markdown",
   "id": "66f9cf0d-a902-4378-9cd6-94cb286b6a03",
   "metadata": {},
   "source": [
    "*Data science is the new beginning for all the hidden activities that were not revealed yet. That's why I am very much interested in this field.*"
   ]
  },
  {
   "cell_type": "markdown",
   "id": "6ddc646e-b283-4f6c-8075-95dc005ac172",
   "metadata": {},
   "source": [
    "### The code will print my name below."
   ]
  },
  {
   "cell_type": "code",
   "execution_count": 13,
   "id": "ed655c39-bc3a-46d8-994d-04beb249bf02",
   "metadata": {
    "tags": []
   },
   "outputs": [
    {
     "name": "stdout",
     "output_type": "stream",
     "text": [
      "Kailash Chandra Girtola\n"
     ]
    }
   ],
   "source": [
    "print(\"Kailash Chandra Girtola\");"
   ]
  },
  {
   "cell_type": "markdown",
   "id": "5065ce8d-0dd1-4f65-a2bb-6c40cfcf26cd",
   "metadata": {},
   "source": [
    "---"
   ]
  },
  {
   "cell_type": "markdown",
   "id": "1cc2e00c-98ae-41c0-8f03-091dd84dfaaa",
   "metadata": {},
   "source": [
    "| Firstname | Middlename |  Lastname  |\n",
    "| --- | :---: | ---: |\n",
    "|  Kailash   | Chandra    |  Girtola  |\n"
   ]
  },
  {
   "cell_type": "markdown",
   "id": "44854201-26a5-4bf0-81a9-0b77e0037077",
   "metadata": {},
   "source": [
    "1. Kailash chandra\n",
    "2. Girtola\n"
   ]
  },
  {
   "cell_type": "markdown",
   "id": "aaca0349-d929-46e1-a80f-200e7f488193",
   "metadata": {},
   "source": [
    "- Kai"
   ]
  },
  {
   "cell_type": "code",
   "execution_count": null,
   "id": "30318a5d-cb35-4274-8d32-92d6ccebcf12",
   "metadata": {},
   "outputs": [],
   "source": []
  }
 ],
 "metadata": {
  "kernelspec": {
   "display_name": "Python",
   "language": "python",
   "name": "conda-env-python-py"
  },
  "language_info": {
   "codemirror_mode": {
    "name": "ipython",
    "version": 3
   },
   "file_extension": ".py",
   "mimetype": "text/x-python",
   "name": "python",
   "nbconvert_exporter": "python",
   "pygments_lexer": "ipython3",
   "version": "3.7.12"
  }
 },
 "nbformat": 4,
 "nbformat_minor": 5
}
